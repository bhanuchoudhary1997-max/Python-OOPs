{
  "nbformat": 4,
  "nbformat_minor": 0,
  "metadata": {
    "colab": {
      "provenance": []
    },
    "kernelspec": {
      "name": "python3",
      "display_name": "Python 3"
    },
    "language_info": {
      "name": "python"
    }
  },
  "cells": [
    {
      "cell_type": "markdown",
      "source": [
        "# What is Object-Oriented Programming (OOP)?\n",
        "- Object-Oriented Programming (OOP) is a programming paradigm (a style or way of programming) that organizes software design around objects—data structures that contain both data (attributes/properties) and functions (methods/behaviors).\n",
        "Instead of viewing a program as a sequence of steps (like in procedural programming), OOP models real-world entities as software objects that interact with one another. This approach aims to promote modularity, reusability, and make complex systems easier to manage and maintain.\n",
        "\n",
        "  OOP is fundamentally built upon four key concepts, often called the \"pillars\" of the paradigm:\n",
        "1. Encapsulation\n",
        "- This is the mechanism of bundling the data and the methods that operate on the data into a single unit (the class).\n",
        "- It also involves restricting direct access to some of an object's components, typically by making the data \"private\" and only allowing access or modification through defined methods. This helps to protect data integrity.\n",
        "2. Abstraction\n",
        "- It means hiding the complex implementation details and showing only the essential information to the user.\n",
        "- For example, when you press the \"accelerate\" pedal in a car object, you don't need to know the complex mechanics of the engine; you only need to know that the car goes faster. It focuses on what an object does, rather than how it does it.\n",
        "3. Inheritance\n",
        "- This allows a new class (a \"subclass\" or \"child class\") to inherit properties and behaviors from an existing class (a \"superclass\" or \"parent class\").\n",
        "- This promotes code reusability. For instance, a class Car and a class Truck can both inherit common attributes and methods (like start_engine()) from a single base class called Vehicle.\n",
        "4. Polymorphism\n",
        "- Meaning \"many forms,\" this principle allows objects of different classes to be treated as objects of a common base class.\n",
        "- It enables a single function or operation to behave differently depending on the class of the object it is acting upon. For example, a draw() method would draw a circle if called on a Circle object and a square if called on a Square object.\n",
        "\n",
        "  Key Components in OOP\n",
        "- Class: A blueprint or a template for creating objects. It defines the structure (data and methods) that all objects of that type will possess.\n",
        "- Object: An instance of a class. It is a concrete entity created from the class blueprint, with its own unique set of data.\n",
        "\n",
        "# What is a class in OOP?\n",
        "- The Blueprint Analogy\n",
        "\n",
        "  Think of a class like a blueprint for a house:\n",
        "- The Class (Blueprint): Defines the general structure, which includes the number of floors, the material, where the doors are, etc. It doesn't use up any space in the real world.\n",
        "- The Object (House): A real house built from that blueprint. Every house (object) built from the same blueprint (class) will have the defined structure, but each will have its own unique color, furniture, and family living in it.\n",
        "\n",
        "  Key Roles of a Class : A class serves to define two things for the objects created from it.\n",
        "1. Attributes (Data/Properties) : These are the data variables that define the state of an object.\n",
        "- Example: In a Car class, the attributes might be: color, model, speed.\n",
        "\n",
        "2. Methods (Functions/Behaviors) : These are the functions that define the actions an object can perform.\n",
        "- Example: In a Car class, the methods might be: start_engine(), accelerate(), brake().\n",
        "\n",
        "# What is an object in OOP?\n",
        "- An object in Object-Oriented Programming (OOP) is a basic run-time entity that represents a concrete instance of a class.\n",
        " If a class is the blueprint, the object is the actual thing built from that blueprint. It is a self-contained unit that bundles together data and the functions that operate on that data.\n",
        "\n",
        "   Core Characteristics of an Object : Every object is defined by three main characteristics, which reflect how it functions in a program:    \n",
        "1. State (Attributes) : The state is the set of data values or attributes held by the object at a specific moment in time.\n",
        "- Example (Object: myCar): Attributes: color = Red, speed = 0 mph, fuelLevel = 75%\n",
        "2. Behavior (Methods) : The behavior defines the actions or functions that an object can perform or the actions that can be performed on it. This is implemented via the object's methods.\n",
        "- Example (Object: myCar): Methods: start_engine(), accelerate(), brake()\n",
        "3. Identity : The identity is a unique identifier (usually a memory address) that distinguishes one object from all others, even if they have the exact same state and behavior.\n",
        "- Example: You can have two separate Car objects, both with the color 'Red' and the speed '0 mph', but they are two distinct objects with unique identities.\n",
        "\n",
        "  Object Creation : An object is created through a process called instantiation, where the system allocates memory for the object and initializes its attributes according to the class definition:\n",
        "1. Class (Dog)\n",
        "- Blueprint (Template)\n",
        "- Defines attributes: name, age\n",
        "- Defines behavior: bark(), fetch()\n",
        "2. Object 1 (Instance: fido)\n",
        "- Real Entity (in memory)\n",
        "- State: name = \"Fido\", age = 5\n",
        "- Behaves: fido.bark()\n",
        "3. Object 2 (Instance: buddy)\n",
        "- Real Entity (in memory)\n",
        "- State: name = \"Buddy\", age = 3\n",
        "- Behaves: buddy.bark()\n",
        "\n",
        "# What is the difference between abstraction and encapsulation?\n",
        "- Abstraction focuses on What the object does (the interface).\n",
        "- Encapsulation focuses on How the object does it (the implementation and data protection).\n",
        "\n",
        "  They are often described as two sides of the same coin, with encapsulation being the mechanism that helps achieve abstraction.\n",
        "1. Abstraction (The \"What\") : Abstraction is the conceptual process of showing only essential information to the user and hiding the complex, unnecessary details of the implementation.\n",
        "- Goal: To manage complexity and provide a clear, simple interface.\n",
        "- Focus: Design level. Defining the features and behavior of an object.\n",
        "- Implementation: Achieved using concepts like Abstract Classes and Interfaces.\n",
        "\n",
        "  Analogy: Driving a Car : You only interact with the steering wheel, accelerator, and brake pedal (the essentials). You don't need to know the complex combustion process in the engine to drive (the hidden details). This simplified view is Abstraction.\n",
        "2. Encapsulation (The \"How\" and Data Protection) :  Encapsulation is the practical mechanism of bundling data (attributes) and the code that operates on that data (methods) into a single unit (a class) and restricting direct access to the internal data.\n",
        "-  Goal: To achieve data hiding and ensure data integrity (the data can only be changed via controlled methods).\n",
        "- Focus: Implementation level. Grouping and protecting the internal state of the object.\n",
        "- Implementation: Achieved using Access Modifiers (like private, protected) along with public \"Getter\" and \"Setter\" methods.\n",
        "\n",
        "  Analogy: A Car's Engine : The car's internal engine components are sealed inside a cover and cannot be directly touched or modified by the driver (data hiding). The engine's state (oil level, temperature) can only be checked or altered through specific, controlled points (like the oil cap or dipstick) (controlled access). This containment and protection is Encapsulation.\n",
        "\n",
        "# What are dunder methods in Python?\n",
        "- Dunder methods, short for \"Double Underscore\" methods, are special methods in Python that are not intended to be called directly by the programmer. Instead, they are typically invoked automatically by the Python interpreter when a specific operation is performed on an object.\n",
        "They are defined by surrounding a method name with two underscores on each side (e.g., __init__, __str__, __add__).\n",
        "\n",
        "  Purpose and Role : Dunder methods serve two primary roles in Python OOP:\n",
        "1. Initialization and Destruction:\n",
        "- __init__(self, ...): The constructor method. It's automatically called when a new object is created (instantiated) from a class. It is used to set up the initial state of the object.\n",
        "- __new__(cls, ...): Called before __init__ to create the new instance of the class. It's rarely overridden.\n",
        "- __del__(self): The destructor method. It's called when an object is about to be destroyed (garbage collected).\n",
        "2. Operator Overloading (The Core of Dunder Methods) : Dunder methods allow Python objects to interact with built-in functions and operators in a meaningful way. This is known as operator overloading. By defining these methods, you can customize the behavior of operators like +, -, or functions like print() when used with your custom objects.\n",
        "\n",
        "Operation/Function-   Dunder Method-   Example\n",
        "\n",
        "Addition (+)-   \"__add__(self, other)\"-  obj1 + obj2\n",
        "\n",
        "String Representation-   __str__(self)-   print(obj)\n",
        "\n",
        "Length (len())-    __len__(self)-   len(obj)\n",
        "\n",
        "Equality (==)-   \"__eq__(self, other)\"-   obj1 == obj2\n",
        "\n",
        "Indexing ([])-   \"__getitem__(self, key)\"-   obj[key]\n",
        "\n",
        "\n",
        "#  Explain the concept of inheritance in OOP?\n",
        "- Inheritance is a fundamental concept in Object-Oriented Programming (OOP) that allows a new class to inherit (acquire) the properties (attributes) and behaviors (methods) of an existing class.\n",
        "This mechanism promotes reusability and establishes a meaningful \"is-a\" relationship between classes.\n",
        "\n",
        "  Key Concepts of Inheritance:\n",
        "1. Parent/Base/Super Class : This is the existing class whose features are inherited. It serves as the template for common attributes and methods.\n",
        "2. Child/Derived/Sub Class : This is the new class that inherits from the existing class. The child class gets all the non-private members of the parent class and can also add its own unique features.\n",
        "3. The \"Is-A\" Relationship : Inheritance establishes a hierarchical relationship that can be expressed as: \"A child class is a type of parent class.\"\n",
        "- Example: A Dog is a Mammal. A Car is a Vehicle.\n",
        "\n",
        "  How Inheritance Works : When a child class inherits from a parent class, the child class automatically receives the following:\n",
        "- Reusability: You don't have to rewrite the common code (like a speed attribute or a move() method) in every new class.\n",
        "- Extension: The child class can add new attributes and new methods specific to its type.\n",
        "- Modification (Method Overriding): The child class can redefine (override) methods inherited from the parent class to provide a specific implementation tailored to the child class's needs. This is key to Polymorphism.\n",
        "1. Vehicle (Parent Class):\n",
        "- speed, color, manufacturer\n",
        "- start_engine(), stop_engine()\n",
        "2. Car (Child Class):\n",
        "- Inherits parent attributes + adds fuel_type\n",
        "- Inherits stop_engine() + Overrides start_engine() to check fuel.\n",
        "3. Bicycle (Child Class):\n",
        "- Inherits parent attributes + adds number_of_gears\n",
        "- Inherits stop_engine() + Overrides start_engine() to just push off.\n",
        "\n",
        "  Types of Inheritance (Common Structures) : Inheritance can be categorized based on the number of classes involved in the relationship:\n",
        "1. Single Inheritance: A child class inherits from only one parent class. (Most common and simplest).\n",
        "Example: Car $\\rightarrow$ Vehicle.\n",
        "2. Multilevel Inheritance: A class inherits from a parent, which itself is a child of another class (a chain).\n",
        "Example: SportsCar $\\rightarrow$ Car $\\rightarrow$ Vehicle.\n",
        "3. Hierarchical Inheritance: Multiple child classes inherit from a single parent class.\n",
        "Example: Car and Bicycle both $\\rightarrow$ Vehicle.\n",
        "4. Multiple Inheritance: A child class inherits from more than one parent class. (This can introduce complexity, often leading to the \"Diamond Problem,\" and is not supported by some languages like Java).\n",
        "Example (in Python/C++): AmphibiousVehicle → Car and Boat.\n",
        "\n",
        "# What is polymorphism in OOP?\n",
        "- Polymorphism is the fourth pillar of Object-Oriented Programming (OOP) and is a Greek term meaning \"many forms\" (1$\\text{poly}$ = many, 2$\\text{morph}$ = form).\n",
        "In programming, polymorphism is the ability of an object to take on many forms, or more specifically, the ability of an interface to refer to objects of different classes. It allows you to define one interface and have multiple implementations.\n",
        "\n",
        "  The Core Concept : Polymorphism allows you to treat an object of a derived (child) class as though it were an object of its base (parent) class. This is extremely powerful for writing flexible and generic code.\n",
        "\n",
        "  Analogy: The Shape Interface : Imagine you have a base class called Shape with a method called calculate_area().\n",
        "1. The Shape class defines what should be done (calculate area), but not how it should be done.\n",
        "2. The child classes (Circle, Rectangle, Triangle) all inherit from Shape and override the calculate_area() method to provide their own specific logic.\n",
        "\n",
        "Class -           Implementation of calculate_area(),\n",
        "Circle -          π×radius2,\n",
        "Rectangle -        width×height,\n",
        "Triangle  -         0.5×base×height.\n",
        "- Polymorphism allows you to create a list of different shapes and call the same calculate_area() method on each one, and the correct, specialized version will be executed automatically based on the object's actual type.\n",
        "\n",
        "  Types of Polymorphism : Polymorphism is generally categorized into two main types:\n",
        "1. Compile-Time Polymorphism (Static Polymorphism) : This is resolved (decided) by the compiler during compilation (before the program runs).\n",
        "- Method Overloading: Defining multiple methods in the same class with the same name but with different parameters (different number or types of arguments). (Note: Not all languages, like Python, support true method overloading based on signature, but they can achieve similar results using optional arguments.)\n",
        "2. Run-Time Polymorphism (Dynamic Polymorphism) : This is resolved (decided) by the system at runtime (while the program is executing).\n",
        "- Method Overriding: Defining a method in the child class that has the exact same name and signature as a method in its parent class. This is the most common form of polymorphism tied to inheritance. When the method is called through a parent class reference, the system determines the correct method to execute based on the object's true type at runtime.\n",
        "\n",
        "  Inheritance is the basis for run-time polymorphism. It allows the generic interface of the parent class to be used to access the specialized behavior of any child class.\n",
        "\n",
        "# How is encapsulation achieved in Python?\n",
        "- Encapsulation in Python is primarily achieved through naming conventions and the use of properties, as Python does not enforce strict access control (like private keywords in languages like Java or C++).\n",
        "\n",
        "  Here is a breakdown of the three main approaches used to implement encapsulation in Python:\n",
        "1. conventions for Hiding Data (Semi-Private) : The most common way to signal that an attribute should not be directly accessed from outside the class is by using a single leading underscore:\n",
        "- Single Leading Underscore (_attribute):\n",
        "- Meaning: This is a convention indicating to other developers that the attribute is protected or semi-private. You can still access and modify it directly from outside the class, but doing so is discouraged and breaks encapsulation best practices.\n",
        "- Goal: It warns the user: \"Access this data only through the defined methods.\"\n",
        "2. Using Properties (The Encapsulation Mechanism) : The most idiomatic and effective way to achieve true encapsulation behavior in Python is by using the @property decorator. This allows you to define public methods that look and act like attributes, giving you controlled access to the internal data.\n",
        "\n",
        "   Using properties provides controlled access to the internal attributes (usually those marked with a single underscore).\n",
        "-  The Getter (Read Access) : The @property decorator is placed above the method that retrieves the value.\n",
        "-  The Setter (Write Access) : The @attribute_name.setter decorator is placed above the method that sets or modifies the value. This is where you implement data validation or other logic.\n",
        "3. Name Mangling (Strict Hiding) : While not typically used for simple encapsulation, Python offers a mechanism called Name Mangling to make an attribute very difficult to access accidentally:\n",
        "- Double Leading Underscore (__attribute):\n",
        "- Mechanism: The Python interpreter automatically changes (mangles) the name of the attribute to include the class name (e.g., _ClassName__attribute).\n",
        "- Goal: This technically hides the variable from direct access outside the class, but it can still be accessed if the mangled name is known (e.g., instance._BankAccount__balance).\n",
        "\n",
        "\n",
        "# What is a constructor in Python?\n",
        "- A constructor in Python is a special method used to initialize new objects. It is automatically called when a new instance of a class is created.\n",
        "\n",
        "  The name constructor is often used interchangeably with the most common method involved in object creation: __init__.\n",
        "\n",
        "  The __init__ Method : The primary method that acts as the constructor in Python is __init__.\n",
        "- Name: __init__ (a dunder method).\n",
        "- Purpose: To define and set the initial state (attributes/data) for a newly created object.\n",
        "- Execution: It is called immediately after the object is created in memory.\n",
        "- Syntax: It must accept at least one argument, conventionally named self, which refers to the newly created instance itself.\n",
        "\n",
        "  The Role of __new__ (The True Constructor) : While __init__ handles initialization, it's important to know that there is a distinction:\n",
        "- The true constructor method, responsible for actually creating the new, empty object instance in memory, is the __new__ dunder method.\n",
        "- The __init__ method is the initializer, responsible for setting up the object's attributes after it has been created.\n",
        "\n",
        "   In most common Python programming, you only need to worry about defining the __init__ method, as the default behavior of __new__ is sufficient for creating the object. You only need to override __new__ when you need to customize the actual creation process of the object (e.g., implementing singletons or customizing how objects are built from immutable types).\n",
        "\n",
        "# What are class and static methods in Python?\n",
        "- Class methods and static methods are two types of methods in Python that are bound to the class itself rather than to a specific instance (object) of the class. They differ from regular instance methods, which require an object to be called.\n",
        "\n",
        "  Here is a breakdown of what they are and how they differ:\n",
        "\n",
        "  classmethod (Class Methods) : A class method is bound to the class and receives the class itself as its first argument, conventionally named cls.\n",
        "  \n",
        "    Key Characteristics:\n",
        "- Decorator: They are defined using the @classmethod decorator.\n",
        "- First Argument: The first parameter must be the class object itself (cls).\n",
        "- Purpose: They are primarily used as factory methods—alternative ways to create instances of the class—or to operate on class variables. Since they have access to the class object (cls), they can modify class state or refer to class-specific attributes.\n",
        "- Inheritance: When called on a derived class, cls will refer to the derived class, allowing the method to respect the inheritance hierarchy.\n",
        "\n",
        "  staticmethod (Static Methods) : A static method is essentially a simple function that happens to live inside a class. It is completely independent of both the instance and the class state.\n",
        "\n",
        "    Key Characteristics\n",
        "- Decorator: They are defined using the @staticmethod decorator.\n",
        "- Arguments: They do not take any special first argument (self or cls).\n",
        "- Purpose: They are used to group utility functions or helper methods that are logically related to the class but do not need to access or modify any class or instance data.\n",
        "- Independence: They cannot access or modify instance state (self.attribute) or class state (cls.attribute).\n",
        "\n",
        "\n",
        "# What is method overloading in Python?\n",
        "- Method overloading, as it is strictly defined in languages like Java or C++ (where you can have multiple methods in the same class with the same name but different parameter lists), does not exist in Python in the same way.\n",
        "\n",
        "  However, Python achieves similar functionality using a more flexible approach based on default arguments and variable arguments.\n",
        "\n",
        "  Why Python Doesn't Have Traditional Method Overloading\n",
        "- In Python, when you define multiple methods with the same name in a single class, the later definition overwrites the earlier ones.\n",
        "\n",
        "  \n",
        "  How Polymorphism is Achieved in Python\n",
        "- Python uses the following techniques to achieve the flexibility and \"many forms\" functionality of overloading:\n",
        "1.Default Arguments (The Most Common Way) : You can make parameters optional by providing them with a default value. This allows a single method definition to handle different numbers of arguments.\n",
        "2. Variable-Length Arguments (*args and **kwargs) : You can use *args to allow the method to accept an arbitrary number of positional arguments, making it highly flexible.\n",
        "3. Type Checking (Ducking) : Python relies on the dynamic nature of its types, often referred to as \"duck typing,\" which means a method can operate differently based on the type of data passed to it.\n",
        "\n",
        "   In Python, while method overloading in the classical sense is absent, these dynamic features allow developers to write flexible, polymorphic code using a single method name for multiple use cases.\n",
        "\n",
        "#  What is method overriding in OOP?\n",
        "- Method overriding is a feature in Object-Oriented Programming (OOP) that allows a child class (subclass) to provide a specific implementation for a method that is already defined in its parent class (superclass).\n",
        "\n",
        "  It's one of the primary ways Python achieves Run-Time Polymorphism.\n",
        "\n",
        "  Core Concept and Rules : The core idea is to let a specialized class handle a common operation in its own unique way, even though it inherited the standard definition from its ancestor.\n",
        "1. The Relationship : Method overriding requires an inheritance relationship: the method must exist in both the parent and child classes.\n",
        "2. The Signature Rule : The method in the child class must have the exact same name and the exact same number and type of parameters (the method signature) as the method in the parent class. If the signature is different, it's considered overloading (or just a new method in Python) rather than overriding.\n",
        "3. Execution : When you call the method using an object of the child class, the interpreter executes the child's version, effectively replacing (overriding) the parent's version.\n",
        "\n",
        "    Calling the Parent's Method (Using super()) : Sometimes, the child class wants to extend the parent's method, rather than completely replace it. This is commonly done in constructors (__init__) but applies to any method.\n",
        "\n",
        "   The built-in function super() is used to call the overridden method of the parent class from within the child class's method.\n",
        "\n",
        "\n",
        "# What is a property decorator in Python?\n",
        "- The @property decorator in Python is a built-in feature that provides an object-oriented way to define methods that can be accessed and used like attributes (fields).\n",
        "\n",
        "  It is a powerful tool used to achieve encapsulation by giving you controlled access to an object's internal state.\n",
        "\n",
        "   Purpose and Functionality : The @property decorator is used to define three distinct methods for an attribute, turning a simple variable access into function calls:\n",
        "1. Getter (@property): The method that is called when you read the attribute's value (e.g., obj.attribute).\n",
        "2. Setter (@attribute.setter): The method that is called when you try to assign/set a new value to the attribute (e.g., obj.attribute = value).\n",
        "3. Deleter (@attribute.deleter): The method that is called when you try to delete the attribute (e.g., del obj.attribute).\n",
        "\n",
        "   Why Use It? (The Encapsulation Benefit)\n",
        " -  The main benefit of the property decorator is that it allows you to change how an attribute is accessed or modified without changing the syntax used by the code that uses the class.\n",
        "- It lets you hide the internal representation of data (usually an attribute with a leading underscore, like _temperature) and expose a public name (temperature) that is validated or computed.\n",
        "- It allows you to add validation logic (like checking if a value is positive) to the setter method, protecting the integrity of the object's data.\n",
        "\n",
        "  Notice that the user interacts with t.temperature exactly as if it were a regular variable, but the internal getter and setter methods are executed behind the scenes.\n",
        "\n",
        "# Why is polymorphism important in OOP?\n",
        "- Polymorphism is crucial in Object-Oriented Programming (OOP) because it allows for the development of flexible, extensible, and maintainable code. It is the key enabler of dynamic behavior in an inheritance hierarchy.\n",
        "\n",
        "  Here are the main reasons why polymorphism is so important:\n",
        "1. Increased Flexibility and Reusability (Generic Code) : Polymorphism allows you to write generic code that can work with objects of different classes that share a common interface (a common method inherited from a parent or interface).\n",
        "- One Interface, Many Implementations: You can define a collection of diverse objects (e.g., a list of Dog, Cat, and Cow objects, all derived from Animal). You can then call the same method, like animal.make_sound(), on every object without needing to check its specific type.\n",
        "- Decoupling: The code that calls the method is decoupled from the specific implementation details of the child classes. You write the code once, and it works with any object that conforms to the parent's interface.\n",
        "2. Simplifies Code and Reduces Complexity : By using a single, uniform interface to handle different types of objects, polymorphism reduces the need for lengthy, complicated conditional logic.\n",
        "3. Facilitates Extensibility (Easy to Add New Types) : Polymorphism makes it easy to extend a system by adding new classes without modifying the existing core code.\n",
        "- Future-Proofing: If you introduce a new animal, say a Goat (inheriting from Animal and implementing make_sound()), the rest of the code that iterates over the list of Animal objects will automatically work correctly with the new Goat object.\n",
        "- Open-Closed Principle (OCP): This aligns with the OCP, a core software design principle stating that software entities should be open for extension (you can add a new class) but closed for modification (you don't have to change existing, working code).\n",
        "4. Better Code Maintenance and Readability : Polymorphism leads to cleaner, more cohesive code that is easier to read and maintain.\n",
        "- Centralized Behavior: Related behaviors are grouped under a single, meaningful method name (e.g., every vehicle has a drive() method).\n",
        "- Easy Updates: If you need to change how a specific animal makes a sound, you only change the method within that one subclass, and the change is safely isolated.\n",
        "\n",
        "  Polymorphism is often considered the most powerful concept in OOP because it allows code to adapt its behavior dynamically based on the object's type at runtime.\n",
        "\n",
        "# What is an abstract class in Python?\n",
        "- An abstract class in Python is a class that cannot be instantiated (you cannot create an object directly from it). Its sole purpose is to serve as a blueprint for other classes, defining a common interface, and enforcing that subclasses implement certain methods.\n",
        "\n",
        "    In Python, abstract classes are implemented using the abc (Abstract Base Classes) module.\n",
        "\n",
        "  Key Characteristics\n",
        "1. Cannot be Instantiated: You cannot write my_object = AbstractClass()—this will raise an error.\n",
        "2. Abstract Methods: It can contain one or more abstract methods. These methods have a declaration but no implementation (no body) in the abstract class itself.\n",
        "3. Enforcement: Any concrete class (a non-abstract class) that inherits from the abstract class must provide implementations for all of its abstract methods. This is the core purpose of abstract classes: enforcing a standard interface.\n",
        "\n",
        "   How to Create an Abstract Class\n",
        "\n",
        "   Creating an abstract class requires two things from Python's abc module:\n",
        "1. ABC (Abstract Base Class): The class must inherit from ABC.\n",
        "2. @abstractmethod: The methods that subclasses must implement must be decorated with @abstractmethod.\n",
        "\n",
        "    Importance in OOP:\n",
        "\n",
        "    Abstract classes are a powerful tool for achieving Abstraction and Polymorphism. They ensure that all related objects (subclasses) adhere to a defined contract, making the code more robust, scalable, and predictable.\n",
        "\n",
        "#  What are the advantages of OOP?\n",
        "- Object-Oriented Programming (OOP) offers several significant advantages over traditional procedural programming, primarily related to managing complexity, improving quality, and increasing development speed.\n",
        "\n",
        "  Key Advantages of OOP\n",
        "1. Reusability of Code:\n",
        "- Inheritance is the backbone of reusability. Once a class is created, its attributes and methods can be inherited by new subclasses.\n",
        "- This means developers don't have to write the same code multiple times, which saves time and reduces redundancy.\n",
        "2. Improved Maintainability:\n",
        "-  OOP systems are easier to maintain because the code is structured around well-defined objects.\n",
        "-  Encapsulation ensures that the data and the methods that operate on it are bound together. This means changes to an object's internal implementation are isolated and do not require extensive modifications to other parts of the code.\n",
        "3. Enhanced Flexibility and Extensibility:\n",
        "- Polymorphism allows new functionalities to be easily added to the system without affecting the existing code.\n",
        "- New classes can be created that adhere to the existing interface (via inheritance or abstract classes), making the system open for extension but closed for modification (the Open/Closed Principle).\n",
        "4. Better Problem Solving and Modeling:\n",
        "- OOP allows programmers to map real-world entities and relationships directly into code (e.g., a Dog object, a Car object).\n",
        "- Abstraction helps manage complexity by showing only the essential features to the user, simplifying the overall design of the system.\n",
        "5. Increased Security (Data Hiding):\n",
        "- Encapsulation provides data hiding, often achieved by declaring class members as private or protected.\n",
        "- This prevents accidental or unauthorized access and modification of an object's internal state, ensuring data integrity.  \n",
        "6. Easier Debugging:\n",
        "- Since classes are self-contained (encapsulated) units, errors are often localized to the specific object causing the issue. This makes the debugging process faster and more targeted.\n",
        "- The clear structure helps in tracking the flow of data and control within the application.\n",
        "\n",
        "# What is the difference between a class variable and an instance variable?\n",
        "\n",
        "    Class Variable:\n",
        "- Defined in the class body, outside any method (including __init__()).\n",
        "- Shared by all instances of that class: there is one copy of the variable at the class level, and if accessed via an instance it will refer to that class-level variable (unless overridden).\n",
        "- Suitable for data that is common to all instances (e.g., a default value, constant, or counter across instances).\n",
        "- If you modify a class variable via the class name, it affects all instances that haven’t overridden it. If you modify a variable via an instance with the same name, it creates a new instance variable for that instance (thus masking/shadowing the class variable) rather than modifying the class variable.\n",
        "\n",
        "  Instance Variable:\n",
        "- Defined inside methods (typically __init__()), using self. (e.g., self.x = …).\n",
        "- Each instance object has its own copy of the instance variable — so different objects can have different values for that variable.   \n",
        "- Used for data or state that is unique to each object (for example: the object’s name, id, specific configuration) rather than shared across all objects.    \n",
        "- Changing an instance variable on one object does not affect the same-named instance variable (or class variable) on another object.\n",
        "\n",
        "# What is multiple inheritance in Python?\n",
        "- Multiple inheritance in Python is a feature that allows a class to inherit attributes and methods from more than one parent (base) class.\n",
        "\n",
        "  The child class combines the characteristics of all its parent classes, making it a powerful tool for code reuse and building specialized objects.\n",
        "\n",
        "  How Multiple Inheritance Works\n",
        "\n",
        "  When a child class is defined, it simply lists all its parent classes in the class definition parenthesis. The child class then effectively becomes a fusion of its ancestors.\n",
        "\n",
        "  The Diamond Problem and MRO : The biggest challenge with multiple inheritance is dealing with situations where the same method or attribute is defined in more than one parent class. This is known as the Diamond Problem.\n",
        "- The Diamond Problem : It occurs when a class inherits from two classes that, in turn, share a common ancestor. If a method is overridden differently in the two intermediate classes, the interpreter faces an ambiguity about which version of the method to use.\n",
        "- Method Resolution Order (MRO) : Python solves the ambiguity of the Diamond Problem using a specific algorithm called Method Resolution Order (MRO).\n",
        "1. MRO Definition: The MRO is the order in which Python searches through the inheritance hierarchy for a method.\n",
        "2. Algorithm: Python uses the C3 Linearization Algorithm to determine a consistent MRO. This algorithm ensures that a parent class is always searched before its child classes and that the order of inheritance specified in the class definition is respected.\n",
        "3. Checking the MRO: You can check the MRO for any class using the special attribute __mro__ or the help() function.\n",
        "\n",
        "\n",
        "# Explain the purpose of ‘’__str__’ and ‘__repr__’ ‘ methods in Python.\n",
        "- The Python dunder methods __str__ and __repr__ are used to provide string representations of an object. While both return a string, they serve different primary audiences and purposes.\n",
        "1. __str__ (String Representation) : The __str__ method is designed to provide an informal, readable, and elegant string representation of an object.\n",
        "- Target Audience: The end-user or human reader (e.g., for logging or display).\n",
        "- Purpose: To be readable. The output should be concise and meaningful to someone using the application.\n",
        "- Invocation: It's called automatically by the built-in functions print() and str().\n",
        "- Requirement: It should return a string.\n",
        "2. __repr__ (Developer Representation) : The __repr__ method is designed to provide an official, unambiguous, and information-rich string representation of an object.\n",
        "- Target Audience: The developer or programmer (e.g., for debugging and introspection).\n",
        "- Purpose: To be unambiguous. The output should clearly indicate the object type and ideally be a valid Python expression that could be used to recreate the object.\n",
        "- Invocation: It's called automatically by the built-in function repr(), when using the Python interactive console, or when an object is placed inside a container (like a list) and the container is printed.\n",
        "- Requirement: It should return a string, usually formatted as ClassName(attribute=value, ...).\n",
        "\n",
        "  The Relationship:\n",
        "\n",
        "  If a class defines only __repr__ and not __str__, then __repr__ will be used as the default output for both str() and print().\n",
        "\n",
        "  However, if both are defined, __str__ takes precedence for user-facing output (print()), and __repr__ is reserved for debugging and the console. As a best practice, it is generally recommended to always define __repr__ for all custom classes.\n",
        "\n",
        "# What is the significance of the ‘super()’ function in Python?\n",
        "- The super() function in Python is a built-in that plays an important role in class inheritance, especially when you want to reuse or extend parent-class behavior and deal with complex class hierarchies (like multiple inheritance). Here’s a deeper look at what it does, why it’s useful, and key things to know.\n",
        "\n",
        "  What it does:\n",
        "- super() returns a proxy object that delegates method calls to the next class in the Method Resolution Order (MRO).\n",
        "- In single inheritance, it’s often used inside a subclass to call the parent class’s initializer (or other method) so you don’t have to hard-code the parent class name.\n",
        "- In multiple (or multilevel) inheritance, using super() properly allows you to ensure that each class in the hierarchy gets its turn to initialize or handle behavior in the correct order. It ensures correct cooperation among classes along the MRO.\n",
        "\n",
        "  Why it’s significant:\n",
        "- Code reuse & maintainability: By calling super(), subclasses don’t have to replicate parent-class code, and if the class hierarchy changes, you don’t have to update all subclass calls.  \n",
        "- Correct initialization / behavior in inheritance trees: Especially in multiple inheritance, if you just call a particular base class explicitly, you may miss a sibling base class or call things in the wrong order. super() helps you follow the MRO automatically.\n",
        "- Avoiding hard-coding base class names: Using ParentClass.__init__(…) explicitly ties your subclass to that base class name; super() abstracts this away and makes your code more flexible.\n",
        "\n",
        "  Important things and caveats:\n",
        "- super() without arguments (in Python 3) is the preferred form. You don’t need to pass the class and instance explicitly (as you did in older Python versions).\n",
        "- When using multiple inheritance, you must design your classes to cooperate (i.e., each class should call super() properly) so that all relevant base class initializers/methods are invoked. If you mix explicit base-class calls and super() calls inconsistently, you may skip or duplicate calls.\n",
        "- super() is not just about calling the immediate parent; it consults the MRO to find the next method to call, so its behavior may depend on the class hierarchy. This is why it’s more powerful (and slightly more subtle) than simply “call the parent’s method”.\n",
        "- Using super() when not needed (or without understanding the inheritance structure) can introduce confusion. Especially: if you override a method and forget to call super(), you might skip crucial parent-class logic.\n",
        "- Also, one must be cautious with mixins or complex hierarchies: if a base class’s method expects to be called but isn’t (because super() wasn’t used), bugs can result.\n",
        "\n",
        "# What is the significance of the __del__ method in Python?\n",
        "- The __del__() method in Python (sometimes called a finalizer) has the following significance:\n",
        "\n",
        "  What it is:\n",
        "- If your class defines a method def __del__(self):, then when an instance of that class is about to be destroyed by Python’s garbage collector, this method may be invoked.\n",
        "- It allows you to specify cleanup-actions for your object — for example closing a file or releasing a network connection or deregistering from a global structure.\n",
        "\n",
        "  Important caveats:\n",
        "- The call to __del__() is not guaranteed to happen immediately when you del the object’s name, and in some cases may never happen (for example if the interpreter is shutting down).\n",
        "- Because of this non‐deterministic timing, relying on __del__() for critical resources (database connections, file handles) is risky. Better to use explicit cleanup (like context managers: with statements) or manual .close() methods.\n",
        "- If your object is involved in a reference-cycle and has a __del__ method, it may be harder for Python’s garbage collector to clean up that cycle properly (in prior versions).\n",
        "- Exceptions raised inside __del__() are ignored (i.e., they do not propagate normally) so errors inside that method may be silently dropped.\n",
        "\n",
        "  When to use it:\n",
        "- You can use __del__() to provide a fallback cleanup: e.g., if someone forgot to close a file or de-register something, you have a “last chance” hook.\n",
        "- But it should not be your main cleanup mechanism when deterministic cleanup is needed (e.g., you want a resource freed at a known point). In such cases prefer context managers (__enter__, __exit__) or explicit methods.\n",
        "\n",
        "\n",
        "# What is the difference between @staticmethod and @classmethod in Python?\n",
        "\n",
        "\n",
        "    What each does:\n",
        "- A method decorated with @classmethod receives the class (cls) as its first implicit argument. This means the method is bound to the class and can access/modify class-level attributes or even instantiate new objects of the class.\n",
        "- A method decorated with @staticmethod doesn’t receive self (instance) or cls (class) implicitly. It behaves like a plain function that is simply placed inside the class’s namespace (typically for organizational reasons) and cannot directly access the class or instance state unless those are explicitly passed in.\n",
        "\n",
        "  When to use which:\n",
        "- Use @classmethod when you need access to the class itself (e.g., to create instances in different ways, or to modify class-level data).\n",
        "- Use @staticmethod when the method logically belongs to the class (for organization), but doesn’t need to know about the class or instances (no self, no cls).\n",
        "\n",
        "\n",
        "# How does polymorphism work in Python with inheritance?\n",
        "- Polymorphism in Python (especially when used with inheritance) is the ability of different classes to define methods with the same name and the same interface — and for the correct method implementation to be chosen at runtime based on the actual object type.\n",
        "\n",
        "  How it works via inheritance:\n",
        "1. You have a base (parent) class defining a method (say speak()).\n",
        "2. One or more child (sub) classes inherit from the base class and override that method with their own implementation. This is called method overriding.\n",
        "3. When you hold a reference (variable) whose static type is the base class (or you just use the base class interface), but the actual object is one of the subclasses, calling that method triggers the subclass’s version of the method. The decision is made at runtime based on the object’s actual class.\n",
        "4. Because of that, you can write code that uses the base class interface (or abstract class) and it works for any subclass, making the code flexible and extensible.\n",
        "\n",
        "   Why it’s useful:\n",
        "- Code reuse & maintainability: You can write generic code (for Animal) and add new subclasses without changing the generic logic.\n",
        "- Flexibility: Your functions or methods can accept parameters of the base class type and still work with new subclass types you may define later.\n",
        "- Loose coupling: Client code depends on the interface (base class) rather than specific implementations, making it easier to extend or modify the system.\n",
        "\n",
        "  Important notes:\n",
        "- Polymorphism in Python is often runtime polymorphism (method overriding) rather than compile-time overloading (because Python doesn’t support method overloading in the same way statically typed languages do).\n",
        "- Because Python supports duck typing, the same concept often works even without inheritance: if two classes define methods with the same name, you can use them interchangeably as long as they behave as expected.\n",
        "\n",
        "\n",
        "# What is method chaining in Python OOP?\n",
        "- In Python OOP, method chaining is a design pattern in which you call multiple methods on the same object in a single expression by having each method return the object itself (usually self).\n",
        "\n",
        "   Why use method chaining:\n",
        "- It makes code more concise: fewer intermediate variables are needed.\n",
        "- It can improve readability, especially when you’re performing a series of operations on an object in a logical sequence.\n",
        "- It fits well with APIs or classes designed for fluent usage (i.e., where successive transformations or configuration steps are expected).\n",
        "\n",
        "  Things to watch out for / drawbacks:\n",
        "- If a method in the chain does not return self (or a relevant object for chain continuation), the chain will break (and you may get an error like 'NoneType' object has no attribute ...).\n",
        "- Over-chaining (long chains) can hurt readability if the sequence becomes too long or complex.\n",
        "- If the methods mutate the object internally, chaining can sometimes hide side-effects; careful documentation and design help avoid surprises.\n",
        "- It may not always be “pythonic” in the sense of typical Python style: returning self from many methods is more common in fluent-interface designs than in many everyday Python classes. (Some Python developers feel chaining is more common in languages like Java.)\n",
        "\n",
        "# What is the purpose of the __call__ method in Python?\n",
        "- The purpose of the __call__ dunder method in Python is to make an instance of a class callable, meaning you can treat the object itself like a function.\n",
        "\n",
        "  If a class implements __call__, you can invoke the instance using parentheses, just as you would call a function: object_instance().\n",
        "\n",
        "  How the __call__ Method Works:\n",
        "- When you define __call__ in a class, the Python interpreter automatically executes this method whenever the object is called like a function.\n",
        "\n",
        "  Primary Use Cases:\n",
        "1. Creating \"Functors\" (Function Objects) :This is the most direct use: creating objects that maintain state (data) across calls but are invoked with the simple, clean syntax of a function. In the example above, the Multiplier object remembers its factor (its state) but is called like a function.\n",
        "2. Implementing Decorators : When a decorator needs to maintain state or accept arguments during its initial setup, implementing __call__ on the decorator class is the best way to make the decorator object callable later on when it wraps the function.\n",
        "3. Customized Instance Creation : While __new__ and __init__ handle object creation and initialization, __call__ can be used within metaclasses or complex design patterns to customize how an instance is subsequently used or re-used.\n",
        "\n",
        "\n",
        "\n",
        "\n",
        "  \n",
        "\n",
        "\n",
        "  "
      ],
      "metadata": {
        "id": "1El3MF1nUUT6"
      }
    },
    {
      "cell_type": "code",
      "source": [
        "#  Create a parent class Animal with a method speak() that prints a generic message. Create a child class Dog that overrides the speak() method to print \"Bark!\".\n",
        "\n",
        "\n",
        "class Animal:\n",
        "    def speak(self):\n",
        "        print(\"Animal speaks\")\n",
        "\n",
        "class Dog(Animal):\n",
        "    def speak(self):\n",
        "        print(\"Bark!\")\n",
        "\n",
        "# Example usage:\n",
        "d = Dog()\n",
        "d.speak()\n",
        "\n",
        "\n"
      ],
      "metadata": {
        "id": "1kktkr3wbi_p",
        "colab": {
          "base_uri": "https://localhost:8080/"
        },
        "outputId": "34608e8d-90d1-4d43-e3b4-74337044fae4"
      },
      "execution_count": 2,
      "outputs": [
        {
          "output_type": "stream",
          "name": "stdout",
          "text": [
            "Bark!\n"
          ]
        }
      ]
    },
    {
      "cell_type": "code",
      "source": [
        "#  Write a program to create an abstract class Shape with a method area(). Derive classes Circle and Rectangle from it and implement the area() method in both.\n",
        "\n",
        "from abc import ABC, abstractmethod\n",
        "\n",
        "class Shape(ABC):\n",
        "    @abstractmethod\n",
        "    def area(self):\n",
        "        pass\n",
        "\n",
        "class Circle(Shape):\n",
        "    def __init__(self, radius):\n",
        "        self.radius = radius\n",
        "    def area(self):\n",
        "        return 3.14 * self.radius * self.radius\n",
        "\n",
        "class Rectangle(Shape):\n",
        "    def __init__(self, width, height):\n",
        "        self.width = width\n",
        "        self.height = height\n",
        "    def area(self):\n",
        "        return self.width * self.height\n",
        "\n",
        "# Example usage:\n",
        "c = Circle(3)\n",
        "print(c.area())  # Output: 28.26\n",
        "r = Rectangle(4, 5)\n",
        "print(r.area())\n"
      ],
      "metadata": {
        "colab": {
          "base_uri": "https://localhost:8080/"
        },
        "id": "DLktLGiEPsBA",
        "outputId": "9b3fcaf5-2369-4eb3-c5a5-3f1a417c8dd9"
      },
      "execution_count": 3,
      "outputs": [
        {
          "output_type": "stream",
          "name": "stdout",
          "text": [
            "28.259999999999998\n",
            "20\n"
          ]
        }
      ]
    },
    {
      "cell_type": "code",
      "source": [
        "# Implement a multi-level inheritance scenario where a class Vehicle has an attribute type. Derive a class Car and further derive a class ElectricCar that adds a battery attribute.\n",
        "\n",
        "class Vehicle:\n",
        "    def __init__(self, type):\n",
        "        self.type = type\n",
        "\n",
        "class Car(Vehicle):\n",
        "    def __init__(self, type, brand):\n",
        "        super().__init__(type)\n",
        "        self.brand = brand\n",
        "\n",
        "class ElectricCar(Car):\n",
        "    def __init__(self, type, brand, battery):\n",
        "        super().__init__(type, brand)\n",
        "        self.battery = battery\n",
        "\n",
        "# Example usage:\n",
        "ecar = ElectricCar(\"Sedan\", \"Tesla\", \"100 kWh\")\n",
        "print(ecar.type, ecar.brand, ecar.battery)\n",
        "\n"
      ],
      "metadata": {
        "colab": {
          "base_uri": "https://localhost:8080/"
        },
        "id": "0jbV7WoTP2av",
        "outputId": "88f8074f-87be-424e-d6fc-5f32f75df663"
      },
      "execution_count": 4,
      "outputs": [
        {
          "output_type": "stream",
          "name": "stdout",
          "text": [
            "Sedan Tesla 100 kWh\n"
          ]
        }
      ]
    },
    {
      "cell_type": "code",
      "source": [
        "# Demonstrate polymorphism by creating a base class Bird with a method fly(). Create two derived classes Sparrow and Penguin that override the fly() method.\n",
        "\n",
        "class Bird:\n",
        "    def fly(self):\n",
        "        print(\"Some birds can fly.\")\n",
        "\n",
        "class Sparrow(Bird):\n",
        "    def fly(self):\n",
        "        print(\"Sparrow flies high.\")\n",
        "\n",
        "class Penguin(Bird):\n",
        "    def fly(self):\n",
        "        print(\"Penguin cannot fly.\")\n",
        "\n",
        "# Example usage:\n",
        "birds = [Sparrow(), Penguin()]\n",
        "for bird in birds:\n",
        "    bird.fly()\n",
        "\n"
      ],
      "metadata": {
        "colab": {
          "base_uri": "https://localhost:8080/"
        },
        "id": "v77pOrr4QGKq",
        "outputId": "12e3c216-0bec-40d7-dc1f-dc090f83bda7"
      },
      "execution_count": 5,
      "outputs": [
        {
          "output_type": "stream",
          "name": "stdout",
          "text": [
            "Sparrow flies high.\n",
            "Penguin cannot fly.\n"
          ]
        }
      ]
    },
    {
      "cell_type": "code",
      "source": [
        "#  Write a program to demonstrate encapsulation by creating a class BankAccount with private attributes balance and methods to deposit, withdraw, and check balance.\n",
        "\n",
        "class BankAccount:\n",
        "    def __init__(self, balance=0):\n",
        "        self.__balance = balance\n",
        "\n",
        "    def deposit(self, amount):\n",
        "        self.__balance += amount\n",
        "\n",
        "    def withdraw(self, amount):\n",
        "        if amount <= self.__balance:\n",
        "            self.__balance -= amount\n",
        "            return True\n",
        "        else:\n",
        "            return False\n",
        "\n",
        "    def check_balance(self):\n",
        "        return self.__balance\n",
        "\n",
        "# Example usage:\n",
        "acc = BankAccount(100)\n",
        "acc.deposit(50)\n",
        "acc.withdraw(30)\n",
        "print(acc.check_balance())\n"
      ],
      "metadata": {
        "colab": {
          "base_uri": "https://localhost:8080/"
        },
        "id": "uYJOP1DlQgE8",
        "outputId": "aa5172ba-ae04-4e02-ff16-e117894a7aad"
      },
      "execution_count": 6,
      "outputs": [
        {
          "output_type": "stream",
          "name": "stdout",
          "text": [
            "120\n"
          ]
        }
      ]
    },
    {
      "cell_type": "code",
      "source": [
        "# Demonstrate runtime polymorphism using a method play() in a base class Instrument. Derive classes Guitar and Piano that implement their own version of play().\n",
        "\n",
        "class Instrument:\n",
        "    def play(self):\n",
        "        print(\"Playing instrument\")\n",
        "\n",
        "class Guitar(Instrument):\n",
        "    def play(self):\n",
        "        print(\"Playing guitar\")\n",
        "\n",
        "class Piano(Instrument):\n",
        "    def play(self):\n",
        "        print(\"Playing piano\")\n",
        "\n",
        "# Example usage:\n",
        "instruments = [Guitar(), Piano()]\n",
        "for inst in instruments:\n",
        "    inst.play()\n"
      ],
      "metadata": {
        "colab": {
          "base_uri": "https://localhost:8080/"
        },
        "id": "hM9q3OS3QtXE",
        "outputId": "cc52e8c5-42f6-4e3f-a320-954ed5c97b63"
      },
      "execution_count": 7,
      "outputs": [
        {
          "output_type": "stream",
          "name": "stdout",
          "text": [
            "Playing guitar\n",
            "Playing piano\n"
          ]
        }
      ]
    },
    {
      "cell_type": "code",
      "source": [
        "# Create a class MathOperations with a class method add_numbers() to add two numbers and a static method subtract_numbers() to subtract two numbers.\n",
        "\n",
        "class MathOperations:\n",
        "    @classmethod\n",
        "    def add_numbers(cls, a, b):\n",
        "        return a + b\n",
        "\n",
        "    @staticmethod\n",
        "    def subtract_numbers(a, b):\n",
        "        return a - b\n",
        "\n",
        "# Example usage:\n",
        "print(MathOperations.add_numbers(10, 20))\n",
        "print(MathOperations.subtract_numbers(20, 10))\n"
      ],
      "metadata": {
        "colab": {
          "base_uri": "https://localhost:8080/"
        },
        "id": "YnZ2TfpLQ6bV",
        "outputId": "ec501134-d65c-42cb-c023-0dd3c41a9bfa"
      },
      "execution_count": 8,
      "outputs": [
        {
          "output_type": "stream",
          "name": "stdout",
          "text": [
            "30\n",
            "10\n"
          ]
        }
      ]
    },
    {
      "cell_type": "code",
      "source": [
        "#  Implement a class Person with a class method to count the total number of persons created.\n",
        "\n",
        "class Person:\n",
        "    count = 0\n",
        "\n",
        "    def __init__(self, name):\n",
        "        self.name = name\n",
        "        Person.count += 1\n",
        "\n",
        "    @classmethod\n",
        "    def total_persons(cls):\n",
        "        return cls.count\n",
        "\n",
        "# Example usage:\n",
        "p1 = Person(\"A\")\n",
        "p2 = Person(\"B\")\n",
        "print(Person.total_persons())\n"
      ],
      "metadata": {
        "colab": {
          "base_uri": "https://localhost:8080/"
        },
        "id": "XwAKtjVVRSyf",
        "outputId": "4477b16c-29bc-4782-ce37-39ca9cab9aa3"
      },
      "execution_count": 9,
      "outputs": [
        {
          "output_type": "stream",
          "name": "stdout",
          "text": [
            "2\n"
          ]
        }
      ]
    },
    {
      "cell_type": "code",
      "source": [
        "# Write a class Fraction with attributes numerator and denominator. Override the str method to display the fraction as \"numerator/denominator\".\n",
        "\n",
        "class Fraction:\n",
        "    def __init__(self, numerator, denominator):\n",
        "        self.numerator = numerator\n",
        "        self.denominator = denominator\n",
        "\n",
        "    def __str__(self):\n",
        "        return f\"{self.numerator}/{self.denominator}\"\n",
        "\n",
        "# Example usage:\n",
        "f = Fraction(3, 4)\n",
        "print(f)\n"
      ],
      "metadata": {
        "colab": {
          "base_uri": "https://localhost:8080/"
        },
        "id": "_KF8xGxXReXA",
        "outputId": "b19ec680-b023-4895-a555-6f4e43e80773"
      },
      "execution_count": 10,
      "outputs": [
        {
          "output_type": "stream",
          "name": "stdout",
          "text": [
            "3/4\n"
          ]
        }
      ]
    },
    {
      "cell_type": "code",
      "source": [
        "# Demonstrate operator overloading by creating a class Vector and overriding the add method to add two vectors.\n",
        "\n",
        "class Vector:\n",
        "    def __init__(self, x, y):\n",
        "        self.x = x\n",
        "        self.y = y\n",
        "\n",
        "    def __add__(self, other):\n",
        "        return Vector(self.x + other.x, self.y + other.y)\n",
        "\n",
        "    def __str__(self):\n",
        "        return f\"({self.x}, {self.y})\"\n",
        "\n",
        "# Example usage:\n",
        "v1 = Vector(2, 4)\n",
        "v2 = Vector(3, 1)\n",
        "v3 = v1 + v2\n",
        "print(v3)\n"
      ],
      "metadata": {
        "colab": {
          "base_uri": "https://localhost:8080/"
        },
        "id": "qZtRHUH3RqWp",
        "outputId": "a69453bd-36cb-453b-b0ad-f27e02ce5cb2"
      },
      "execution_count": 11,
      "outputs": [
        {
          "output_type": "stream",
          "name": "stdout",
          "text": [
            "(5, 5)\n"
          ]
        }
      ]
    },
    {
      "cell_type": "code",
      "source": [
        "# Create a class Person with attributes name and age. Add a method greet() that prints \"Hello, my name is {name} and I am {age} years old.\"\n",
        "\n",
        "class Person:\n",
        "    def __init__(self, name, age):\n",
        "        self.name = name\n",
        "        self.age = age\n",
        "\n",
        "    def greet(self):\n",
        "        print(f\"Hello, my name is {self.name} and I am {self.age} years old.\")\n",
        "\n",
        "# Example usage:\n",
        "p = Person(\"Bhanu\", 28)\n",
        "p.greet()\n"
      ],
      "metadata": {
        "colab": {
          "base_uri": "https://localhost:8080/"
        },
        "id": "gIj4CX4vR0aC",
        "outputId": "d67e9f18-a7fb-412a-acde-f0dbc26484ea"
      },
      "execution_count": 19,
      "outputs": [
        {
          "output_type": "stream",
          "name": "stdout",
          "text": [
            "Hello, my name is Bhanu and I am 28 years old.\n"
          ]
        }
      ]
    },
    {
      "cell_type": "code",
      "source": [
        "# Implement a class Student with attributes name and grades. Create a method average_grade() to compute the average of the grades.\n",
        "\n",
        "class Student:\n",
        "    def __init__(self, name, grades):\n",
        "        self.name = name\n",
        "        self.grades = grades\n",
        "\n",
        "    def average_grade(self):\n",
        "        return sum(self.grades) / len(self.grades)\n",
        "\n",
        "# Example usage:\n",
        "s = Student(\"Anjali\", [90, 80, 70])\n",
        "print(s.average_grade())\n"
      ],
      "metadata": {
        "colab": {
          "base_uri": "https://localhost:8080/"
        },
        "id": "DWwDkkjVR-XC",
        "outputId": "18450050-1caf-4318-df48-39776b1d502a"
      },
      "execution_count": 13,
      "outputs": [
        {
          "output_type": "stream",
          "name": "stdout",
          "text": [
            "80.0\n"
          ]
        }
      ]
    },
    {
      "cell_type": "code",
      "source": [
        "# Create a class Rectangle with methods set_dimensions() to set the dimensions and area() to calculate the area.\n",
        "\n",
        "class Rectangle:\n",
        "    def set_dimensions(self, width, height):\n",
        "        self.width = width\n",
        "        self.height = height\n",
        "\n",
        "    def area(self):\n",
        "        return self.width * self.height\n",
        "\n",
        "# Example usage:\n",
        "rect = Rectangle()\n",
        "rect.set_dimensions(4, 5)\n",
        "print(rect.area())\n"
      ],
      "metadata": {
        "colab": {
          "base_uri": "https://localhost:8080/"
        },
        "id": "vLWC7VH2SGaT",
        "outputId": "82646ba7-39a4-4a90-92ee-fba89f8fb1a5"
      },
      "execution_count": 14,
      "outputs": [
        {
          "output_type": "stream",
          "name": "stdout",
          "text": [
            "20\n"
          ]
        }
      ]
    },
    {
      "cell_type": "code",
      "source": [
        "# Create a class Product with attributes name, price, and quantity. Implement a method total_price() that calculates the total price of the product.\n",
        "\n",
        "class Product:\n",
        "    def __init__(self, name, price, quantity):\n",
        "        self.name = name\n",
        "        self.price = price\n",
        "        self.quantity = quantity\n",
        "\n",
        "    def total_price(self):\n",
        "        return self.price * self.quantity\n",
        "\n",
        "# Example usage:\n",
        "p = Product(\"Laptop\", 50000, 2)\n",
        "print(p.total_price())\n"
      ],
      "metadata": {
        "colab": {
          "base_uri": "https://localhost:8080/"
        },
        "id": "1gsdPW9ZSQ6E",
        "outputId": "3fabecfb-8594-40dd-d9b2-a5d3a757cd0c"
      },
      "execution_count": 15,
      "outputs": [
        {
          "output_type": "stream",
          "name": "stdout",
          "text": [
            "100000\n"
          ]
        }
      ]
    },
    {
      "cell_type": "code",
      "source": [
        "# Create a class Animal with an abstract method sound(). Create two derived classes Cow and Sheep that implement the sound() method.\n",
        "\n",
        "from abc import ABC, abstractmethod\n",
        "\n",
        "class Animal(ABC):\n",
        "    @abstractmethod\n",
        "    def sound(self):\n",
        "        pass\n",
        "\n",
        "class Cow(Animal):\n",
        "    def sound(self):\n",
        "        print(\"Moo\")\n",
        "\n",
        "class Sheep(Animal):\n",
        "    def sound(self):\n",
        "        print(\"Baa\")\n",
        "\n",
        "# Example usage:\n",
        "cow = Cow()\n",
        "sheep = Sheep()\n",
        "cow.sound()\n",
        "sheep.sound()\n"
      ],
      "metadata": {
        "colab": {
          "base_uri": "https://localhost:8080/"
        },
        "id": "50z1s8MUSbHN",
        "outputId": "db3aafda-355b-452b-f1e5-325ef10a06a6"
      },
      "execution_count": 16,
      "outputs": [
        {
          "output_type": "stream",
          "name": "stdout",
          "text": [
            "Moo\n",
            "Baa\n"
          ]
        }
      ]
    },
    {
      "cell_type": "code",
      "source": [
        "# Create a class Book with attributes title, author, and year_published. Add a method get_book_info() that returns a formatted string with the book's details.\n",
        "\n",
        "class Book:\n",
        "    def __init__(self, title, author, year_published):\n",
        "        self.title = title\n",
        "        self.author = author\n",
        "        self.year_published = year_published\n",
        "\n",
        "    def get_book_info(self):\n",
        "        return f\"'{self.title}' by {self.author}, published in {self.year_published}\"\n",
        "\n",
        "# Example usage:\n",
        "b = Book(\"The Alchemist\", \"Paulo Coelho\", 1988)\n",
        "print(b.get_book_info())\n"
      ],
      "metadata": {
        "colab": {
          "base_uri": "https://localhost:8080/"
        },
        "id": "eFkPJE6pSpEW",
        "outputId": "0d0ebc76-1eb7-4692-9d1d-ce3a5b8a26d3"
      },
      "execution_count": 17,
      "outputs": [
        {
          "output_type": "stream",
          "name": "stdout",
          "text": [
            "'The Alchemist' by Paulo Coelho, published in 1988\n"
          ]
        }
      ]
    },
    {
      "cell_type": "code",
      "source": [
        "# Create a class House with attributes address and price. Create a derived class Mansion that adds an attribute number_of_rooms.\n",
        "\n",
        "class House:\n",
        "    def __init__(self, address, price):\n",
        "        self.address = address\n",
        "        self.price = price\n",
        "\n",
        "class Mansion(House):\n",
        "    def __init__(self, address, price, number_of_rooms):\n",
        "        super().__init__(address, price)\n",
        "        self.number_of_rooms = number_of_rooms\n",
        "\n",
        "# Example usage:\n",
        "m = Mansion(\"123 Rich St\", 20000000, 12)\n",
        "print(m.address, m.price, m.number_of_rooms)\n"
      ],
      "metadata": {
        "colab": {
          "base_uri": "https://localhost:8080/"
        },
        "id": "33ECkFR0SyiX",
        "outputId": "cbccdbda-f2f2-4e62-d4d0-7a63276c63c1"
      },
      "execution_count": 18,
      "outputs": [
        {
          "output_type": "stream",
          "name": "stdout",
          "text": [
            "123 Rich St 20000000 12\n"
          ]
        }
      ]
    }
  ]
}